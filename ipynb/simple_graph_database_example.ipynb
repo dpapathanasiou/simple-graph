{
 "cells": [
  {
   "cell_type": "code",
   "execution_count": 1,
   "metadata": {},
   "outputs": [
    {
     "data": {
      "application/javascript": [
       "IPython.notebook.set_autosave_interval(0)"
      ]
     },
     "metadata": {},
     "output_type": "display_data"
    },
    {
     "name": "stderr",
     "output_type": "stream",
     "text": [
      "05:55:12 DEBUG:Loaded backend module://ipykernel.pylab.backend_inline version unknown.\n"
     ]
    },
    {
     "name": "stdout",
     "output_type": "stream",
     "text": [
      "Autosave disabled\n"
     ]
    }
   ],
   "source": [
    "%load_ext autoreload\n",
    "%autoreload 2\n",
    "%matplotlib inline\n",
    "%autosave 0\n",
    "    \n",
    "import logging\n",
    "logging.basicConfig(format='%(asctime)s %(levelname)s:%(message)s', level=logging.DEBUG, datefmt='%I:%M:%S')\n",
    "\n",
    "import os\n",
    "import sys\n",
    "import uuid\n",
    "import time\n",
    "import copy\n",
    "\n",
    "#lets find databe.py\n",
    "modulepath = os.path.dirname(os.getcwd())\n",
    "sys.path.insert(0, os.path.abspath(os.path.join(modulepath)))\n",
    "\n",
    "from simple_graph_db import Database"
   ]
  },
  {
   "cell_type": "markdown",
   "metadata": {},
   "source": [
    "## initialize db"
   ]
  },
  {
   "cell_type": "code",
   "execution_count": 2,
   "metadata": {},
   "outputs": [
    {
     "name": "stdout",
     "output_type": "stream",
     "text": [
      "(DB:'/tmp/simple_graph_db_example.sqlite')\n"
     ]
    }
   ],
   "source": [
    "\n",
    "db_file = \"/tmp/simple_graph_db_example.sqlite\"\n",
    "if os.path.exists(db_file):\n",
    "    os.remove(db_file)\n",
    "\n",
    "db = Database(db_file=db_file)\n",
    "print(db)"
   ]
  },
  {
   "cell_type": "markdown",
   "metadata": {},
   "source": [
    "## add nodes"
   ]
  },
  {
   "cell_type": "code",
   "execution_count": 3,
   "metadata": {},
   "outputs": [
    {
     "data": {
      "text/plain": [
       "{'answer': 41, 'id': '3b883289746f496f808d1442e7d954dd'}"
      ]
     },
     "execution_count": 3,
     "metadata": {},
     "output_type": "execute_result"
    }
   ],
   "source": [
    "uid = db.add_node(identifier='3b883289746f496f808d1442e7d954dd', data={\"answer\":41})\n",
    "db.find_node(uid)"
   ]
  },
  {
   "cell_type": "code",
   "execution_count": 4,
   "metadata": {},
   "outputs": [
    {
     "name": "stderr",
     "output_type": "stream",
     "text": [
      "05:55:12 ERROR:UNIQUE constraint failed: nodes.id\n"
     ]
    },
    {
     "name": "stdout",
     "output_type": "stream",
     "text": [
      "SimpleGraphException nodes.id '3b883289746f496f808d1442e7d954dd' already in use. Try db.upsert_node()!\n"
     ]
    }
   ],
   "source": [
    "try:\n",
    "    uid = db.add_node(identifier='3b883289746f496f808d1442e7d954dd', data={\"answer\":42})\n",
    "except Exception as exp:\n",
    "    print(exp.__class__.__name__, exp)"
   ]
  },
  {
   "cell_type": "code",
   "execution_count": 5,
   "metadata": {},
   "outputs": [
    {
     "data": {
      "text/plain": [
       "{'answer': 41, 'id': '3b883289746f496f808d1442e7d954dd'}"
      ]
     },
     "execution_count": 5,
     "metadata": {},
     "output_type": "execute_result"
    }
   ],
   "source": [
    "db.find_node(uid)"
   ]
  },
  {
   "cell_type": "code",
   "execution_count": 6,
   "metadata": {},
   "outputs": [
    {
     "data": {
      "text/plain": [
       "{'answer': 42, 'id': '3b883289746f496f808d1442e7d954dd', 'doit': 'yes'}"
      ]
     },
     "execution_count": 6,
     "metadata": {},
     "output_type": "execute_result"
    }
   ],
   "source": [
    "uid = db.upsert_node(identifier='3b883289746f496f808d1442e7d954dd', data={\"answer\":42, \"doit\":\"yes\"})\n",
    "db.find_node(uid)"
   ]
  },
  {
   "cell_type": "markdown",
   "metadata": {},
   "source": [
    "## get node by uuid"
   ]
  },
  {
   "cell_type": "code",
   "execution_count": 7,
   "metadata": {},
   "outputs": [
    {
     "name": "stdout",
     "output_type": "stream",
     "text": [
      "{'a': 1, 'id': 'e59e12cca729483f969ad1feb1b1d17e'}\n"
     ]
    }
   ],
   "source": [
    "uid1 = \"e59e12cca729483f969ad1feb1b1d17e\"\n",
    "db.add_node(data={\"a\":1}, identifier=uid1)\n",
    "ruid = db.find_node(uid1)\n",
    "print(ruid)\n",
    "assert ruid.get(\"id\") == uid1"
   ]
  },
  {
   "cell_type": "code",
   "execution_count": 8,
   "metadata": {},
   "outputs": [
    {
     "name": "stdout",
     "output_type": "stream",
     "text": [
      "{'b': '2', 'id': 'afeeb876a7524c9f8f86af73e95f3785'}\n"
     ]
    }
   ],
   "source": [
    "uid2 = \"afeeb876a7524c9f8f86af73e95f3785\"\n",
    "db.add_node(data={\"b\": \"2\"}, identifier=uid2)\n",
    "ruid2 = db.find_node(uid2)\n",
    "print(ruid2)\n",
    "assert ruid2.get(\"b\") == \"2\""
   ]
  },
  {
   "cell_type": "markdown",
   "metadata": {},
   "source": [
    "## add edges"
   ]
  },
  {
   "cell_type": "code",
   "execution_count": 9,
   "metadata": {},
   "outputs": [],
   "source": [
    "db.connect_nodes(uid1, uid2, {'con': 1})\n",
    "db.connect_nodes(uid2, uid, {'con': 2})\n",
    "db.connect_nodes(uid, uid2, {'con': 3})"
   ]
  },
  {
   "cell_type": "markdown",
   "metadata": {},
   "source": [
    "## get all nodes"
   ]
  },
  {
   "cell_type": "code",
   "execution_count": 10,
   "metadata": {},
   "outputs": [
    {
     "data": {
      "text/plain": [
       "[{'a': 1, 'id': 'e59e12cca729483f969ad1feb1b1d17e'}]"
      ]
     },
     "execution_count": 10,
     "metadata": {},
     "output_type": "execute_result"
    }
   ],
   "source": [
    "db.find_nodes({'a': ''})"
   ]
  },
  {
   "cell_type": "code",
   "execution_count": 11,
   "metadata": {},
   "outputs": [
    {
     "data": {
      "text/plain": [
       "[{'b': '2', 'id': 'afeeb876a7524c9f8f86af73e95f3785'}]"
      ]
     },
     "execution_count": 11,
     "metadata": {},
     "output_type": "execute_result"
    }
   ],
   "source": [
    "db.find_nodes({'id': 'af'})"
   ]
  },
  {
   "cell_type": "code",
   "execution_count": 12,
   "metadata": {},
   "outputs": [],
   "source": [
    "import pygraphviz as pgv\n",
    "from IPython.display import Image\n",
    "\n",
    "def draw(dot):\n",
    "    return Image(pgv.AGraph(dot).draw(format='png', prog='dot'))"
   ]
  },
  {
   "cell_type": "code",
   "execution_count": 13,
   "metadata": {},
   "outputs": [
    {
     "name": "stdout",
     "output_type": "stream",
     "text": [
      "! digraph {\n",
      "\"3b883289746f496f808d1442e7d954dd\" [label=\"answer 42\\ndoit yes\"];\n",
      "\"3b883289746f496f808d1442e7d954dd\" -> \"afeeb876a7524c9f8f86af73e95f3785\" [label=\"\"];\n",
      "\"e59e12cca729483f969ad1feb1b1d17e\" [label=\"a 1\"];\n",
      "\"e59e12cca729483f969ad1feb1b1d17e\" -> \"afeeb876a7524c9f8f86af73e95f3785\" [label=\"\"];\n",
      "\"afeeb876a7524c9f8f86af73e95f3785\" [label=\"b 2\"];\n",
      "\"afeeb876a7524c9f8f86af73e95f3785\" -> \"3b883289746f496f808d1442e7d954dd\" [label=\"\"];\n",
      "}\n",
      "\n"
     ]
    },
    {
     "data": {
      "image/png": "[encoded data removed]",
      "text/plain": [
       "<IPython.core.display.Image object>"
      ]
     },
     "execution_count": 13,
     "metadata": {},
     "output_type": "execute_result"
    }
   ],
   "source": [
    "dotstr = db.get_dot(path=db.get_all_node_ids())\n",
    "print(\"!\", dotstr)\n",
    "draw(dotstr)"
   ]
  },
  {
   "cell_type": "code",
   "execution_count": 14,
   "metadata": {},
   "outputs": [
    {
     "data": {
      "text/plain": [
       "[('3b883289746f496f808d1442e7d954dd',\n",
       "  'afeeb876a7524c9f8f86af73e95f3785',\n",
       "  '{\"con\":3}'),\n",
       " ('afeeb876a7524c9f8f86af73e95f3785',\n",
       "  '3b883289746f496f808d1442e7d954dd',\n",
       "  '{\"con\":2}')]"
      ]
     },
     "execution_count": 14,
     "metadata": {},
     "output_type": "execute_result"
    }
   ],
   "source": [
    "db.find_neighbors(uid)"
   ]
  },
  {
   "cell_type": "code",
   "execution_count": 15,
   "metadata": {},
   "outputs": [
    {
     "data": {
      "text/plain": [
       "[('e59e12cca729483f969ad1feb1b1d17e',\n",
       "  'afeeb876a7524c9f8f86af73e95f3785',\n",
       "  '{\"con\":1}')]"
      ]
     },
     "execution_count": 15,
     "metadata": {},
     "output_type": "execute_result"
    }
   ],
   "source": [
    "db.find_neighbors(uid1)"
   ]
  },
  {
   "cell_type": "code",
   "execution_count": 16,
   "metadata": {},
   "outputs": [
    {
     "data": {
      "text/plain": [
       "[('e59e12cca729483f969ad1feb1b1d17e',\n",
       "  'afeeb876a7524c9f8f86af73e95f3785',\n",
       "  '{\"con\":1}'),\n",
       " ('afeeb876a7524c9f8f86af73e95f3785',\n",
       "  '3b883289746f496f808d1442e7d954dd',\n",
       "  '{\"con\":2}'),\n",
       " ('3b883289746f496f808d1442e7d954dd',\n",
       "  'afeeb876a7524c9f8f86af73e95f3785',\n",
       "  '{\"con\":3}')]"
      ]
     },
     "execution_count": 16,
     "metadata": {},
     "output_type": "execute_result"
    }
   ],
   "source": [
    "db.get_all_edges()"
   ]
  },
  {
   "cell_type": "markdown",
   "metadata": {},
   "source": [
    "## remove node"
   ]
  },
  {
   "cell_type": "code",
   "execution_count": 17,
   "metadata": {},
   "outputs": [],
   "source": [
    "db.remove_node(uid)"
   ]
  },
  {
   "cell_type": "code",
   "execution_count": 18,
   "metadata": {},
   "outputs": [
    {
     "data": {
      "image/png": "[encoded data removed]",
      "text/plain": [
       "<IPython.core.display.Image object>"
      ]
     },
     "execution_count": 18,
     "metadata": {},
     "output_type": "execute_result"
    }
   ],
   "source": [
    "dotstr = db.get_dot(path=db.get_all_node_ids())\n",
    "draw(dotstr)"
   ]
  },
  {
   "cell_type": "code",
   "execution_count": 19,
   "metadata": {},
   "outputs": [
    {
     "data": {
      "text/plain": [
       "[{'a': 1, 'id': 'e59e12cca729483f969ad1feb1b1d17e'},\n",
       " {'b': '2', 'id': 'afeeb876a7524c9f8f86af73e95f3785'}]"
      ]
     },
     "execution_count": 19,
     "metadata": {},
     "output_type": "execute_result"
    }
   ],
   "source": [
    "db.get_all_nodes()"
   ]
  },
  {
   "cell_type": "code",
   "execution_count": 20,
   "metadata": {},
   "outputs": [
    {
     "data": {
      "text/plain": [
       "['e59e12cca729483f969ad1feb1b1d17e', 'afeeb876a7524c9f8f86af73e95f3785']"
      ]
     },
     "execution_count": 20,
     "metadata": {},
     "output_type": "execute_result"
    }
   ],
   "source": [
    "db.get_all_node_ids()"
   ]
  },
  {
   "cell_type": "code",
   "execution_count": 21,
   "metadata": {},
   "outputs": [
    {
     "data": {
      "text/plain": [
       "[('e59e12cca729483f969ad1feb1b1d17e',\n",
       "  'afeeb876a7524c9f8f86af73e95f3785',\n",
       "  '{\"con\":1}')]"
      ]
     },
     "execution_count": 21,
     "metadata": {},
     "output_type": "execute_result"
    }
   ],
   "source": [
    "db.get_all_edges()"
   ]
  },
  {
   "cell_type": "code",
   "execution_count": null,
   "metadata": {},
   "outputs": [],
   "source": []
  }
 ],
 "metadata": {
  "kernelspec": {
   "display_name": "sfem3",
   "language": "python",
   "name": "sfem3"
  },
  "language_info": {
   "codemirror_mode": {
    "name": "ipython",
    "version": 3
   },
   "file_extension": ".py",
   "mimetype": "text/x-python",
   "name": "python",
   "nbconvert_exporter": "python",
   "pygments_lexer": "ipython3",
   "version": "3.7.4"
  }
 },
 "nbformat": 4,
 "nbformat_minor": 2
}
